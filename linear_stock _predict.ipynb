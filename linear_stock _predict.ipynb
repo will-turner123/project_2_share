{
 "metadata": {
  "language_info": {
   "codemirror_mode": {
    "name": "ipython",
    "version": 3
   },
   "file_extension": ".py",
   "mimetype": "text/x-python",
   "name": "python",
   "nbconvert_exporter": "python",
   "pygments_lexer": "ipython3",
   "version": "3.7.6-final"
  },
  "orig_nbformat": 2,
  "kernelspec": {
   "name": "python3",
   "display_name": "Python 3",
   "language": "python"
  }
 },
 "nbformat": 4,
 "nbformat_minor": 2,
 "cells": [
  {
   "cell_type": "code",
   "execution_count": 796,
   "metadata": {},
   "outputs": [],
   "source": [
    "import numpy as np\n",
    "import pandas as pd\n",
    "import hvplot.pandas\n",
    "from pathlib import Path\n",
    "import matplotlib.pyplot as plt\n",
    "\n",
    "%matplotlib inline"
   ]
  },
  {
   "cell_type": "code",
   "execution_count": 797,
   "metadata": {},
   "outputs": [],
   "source": [
    "from sklearn.model_selection import train_test_split\n",
    "from sklearn.metrics import accuracy_score, classification_report\n",
    "from sklearn.discriminant_analysis import LinearDiscriminantAnalysis"
   ]
  },
  {
   "cell_type": "code",
   "execution_count": 798,
   "metadata": {},
   "outputs": [
    {
     "output_type": "execute_result",
     "data": {
      "text/plain": [
       "            compound  positive  negative  neutral\n",
       "date                                             \n",
       "2020-01-01  -0.86250    0.0000    0.3140   0.6860\n",
       "2020-01-02   0.04029    0.0651    0.0460   0.8889\n",
       "2020-01-03  -0.02382    0.0496    0.0564   0.8940\n",
       "2020-01-04  -0.22940    0.0000    0.0515   0.9485\n",
       "2020-01-05   0.14800    0.0495    0.0280   0.9225"
      ],
      "text/html": "<div>\n<style scoped>\n    .dataframe tbody tr th:only-of-type {\n        vertical-align: middle;\n    }\n\n    .dataframe tbody tr th {\n        vertical-align: top;\n    }\n\n    .dataframe thead th {\n        text-align: right;\n    }\n</style>\n<table border=\"1\" class=\"dataframe\">\n  <thead>\n    <tr style=\"text-align: right;\">\n      <th></th>\n      <th>compound</th>\n      <th>positive</th>\n      <th>negative</th>\n      <th>neutral</th>\n    </tr>\n    <tr>\n      <th>date</th>\n      <th></th>\n      <th></th>\n      <th></th>\n      <th></th>\n    </tr>\n  </thead>\n  <tbody>\n    <tr>\n      <th>2020-01-01</th>\n      <td>-0.86250</td>\n      <td>0.0000</td>\n      <td>0.3140</td>\n      <td>0.6860</td>\n    </tr>\n    <tr>\n      <th>2020-01-02</th>\n      <td>0.04029</td>\n      <td>0.0651</td>\n      <td>0.0460</td>\n      <td>0.8889</td>\n    </tr>\n    <tr>\n      <th>2020-01-03</th>\n      <td>-0.02382</td>\n      <td>0.0496</td>\n      <td>0.0564</td>\n      <td>0.8940</td>\n    </tr>\n    <tr>\n      <th>2020-01-04</th>\n      <td>-0.22940</td>\n      <td>0.0000</td>\n      <td>0.0515</td>\n      <td>0.9485</td>\n    </tr>\n    <tr>\n      <th>2020-01-05</th>\n      <td>0.14800</td>\n      <td>0.0495</td>\n      <td>0.0280</td>\n      <td>0.9225</td>\n    </tr>\n  </tbody>\n</table>\n</div>"
     },
     "metadata": {},
     "execution_count": 798
    }
   ],
   "source": [
    "df = pd.read_csv('data/pfizer_sentiment_analysis.csv', index_col=\"date\", infer_datetime_format=True, parse_dates=True)\n",
    "df = df.resample('D').mean()\n",
    "df.head()"
   ]
  },
  {
   "cell_type": "code",
   "execution_count": 799,
   "metadata": {},
   "outputs": [
    {
     "output_type": "execute_result",
     "data": {
      "text/plain": [
       "              c      h      l      o         v\n",
       "t                                             \n",
       "2020-01-03  0.0  39.24  38.67  38.72  11193319\n",
       "2020-01-06  0.0  39.00  38.70  38.82  10206988\n",
       "2020-01-07  0.0  39.13  38.68  39.12  14328671\n",
       "2020-01-08  1.0  39.22  38.75  38.76  12580358\n",
       "2020-01-09  0.0  39.27  38.79  39.27  15754368"
      ],
      "text/html": "<div>\n<style scoped>\n    .dataframe tbody tr th:only-of-type {\n        vertical-align: middle;\n    }\n\n    .dataframe tbody tr th {\n        vertical-align: top;\n    }\n\n    .dataframe thead th {\n        text-align: right;\n    }\n</style>\n<table border=\"1\" class=\"dataframe\">\n  <thead>\n    <tr style=\"text-align: right;\">\n      <th></th>\n      <th>c</th>\n      <th>h</th>\n      <th>l</th>\n      <th>o</th>\n      <th>v</th>\n    </tr>\n    <tr>\n      <th>t</th>\n      <th></th>\n      <th></th>\n      <th></th>\n      <th></th>\n      <th></th>\n    </tr>\n  </thead>\n  <tbody>\n    <tr>\n      <th>2020-01-03</th>\n      <td>0.0</td>\n      <td>39.24</td>\n      <td>38.67</td>\n      <td>38.72</td>\n      <td>11193319</td>\n    </tr>\n    <tr>\n      <th>2020-01-06</th>\n      <td>0.0</td>\n      <td>39.00</td>\n      <td>38.70</td>\n      <td>38.82</td>\n      <td>10206988</td>\n    </tr>\n    <tr>\n      <th>2020-01-07</th>\n      <td>0.0</td>\n      <td>39.13</td>\n      <td>38.68</td>\n      <td>39.12</td>\n      <td>14328671</td>\n    </tr>\n    <tr>\n      <th>2020-01-08</th>\n      <td>1.0</td>\n      <td>39.22</td>\n      <td>38.75</td>\n      <td>38.76</td>\n      <td>12580358</td>\n    </tr>\n    <tr>\n      <th>2020-01-09</th>\n      <td>0.0</td>\n      <td>39.27</td>\n      <td>38.79</td>\n      <td>39.27</td>\n      <td>15754368</td>\n    </tr>\n  </tbody>\n</table>\n</div>"
     },
     "metadata": {},
     "execution_count": 799
    }
   ],
   "source": [
    "df2 = pd.read_csv('data/pfizer_prices.csv', index_col=\"t\", infer_datetime_format=True, parse_dates=True)\n",
    "df2[\"c\"] = df2[\"c\"].pct_change()\n",
    "df2 = df2.dropna()\n",
    "df2[\"c\"][df2[\"c\"] < 0] = 0\n",
    "df2[\"c\"][df2[\"c\"] > 0] = 1\n",
    "df2.head()"
   ]
  },
  {
   "cell_type": "code",
   "execution_count": 800,
   "metadata": {},
   "outputs": [
    {
     "output_type": "execute_result",
     "data": {
      "text/plain": [
       "            compound  positive  negative   neutral    c      h      l      o  \\\n",
       "2020-01-03 -0.023820  0.049600  0.056400  0.894000  0.0  39.24  38.67  38.72   \n",
       "2020-01-06 -0.070842  0.035917  0.045500  0.918583  0.0  39.00  38.70  38.82   \n",
       "2020-01-07  0.086780  0.038700  0.009400  0.951900  0.0  39.13  38.68  39.12   \n",
       "2020-01-08  0.135414  0.052714  0.011000  0.936286  1.0  39.22  38.75  38.76   \n",
       "2020-01-09 -0.108008  0.025917  0.057417  0.916917  0.0  39.27  38.79  39.27   \n",
       "\n",
       "                     v  \n",
       "2020-01-03  11193319.0  \n",
       "2020-01-06  10206988.0  \n",
       "2020-01-07  14328671.0  \n",
       "2020-01-08  12580358.0  \n",
       "2020-01-09  15754368.0  "
      ],
      "text/html": "<div>\n<style scoped>\n    .dataframe tbody tr th:only-of-type {\n        vertical-align: middle;\n    }\n\n    .dataframe tbody tr th {\n        vertical-align: top;\n    }\n\n    .dataframe thead th {\n        text-align: right;\n    }\n</style>\n<table border=\"1\" class=\"dataframe\">\n  <thead>\n    <tr style=\"text-align: right;\">\n      <th></th>\n      <th>compound</th>\n      <th>positive</th>\n      <th>negative</th>\n      <th>neutral</th>\n      <th>c</th>\n      <th>h</th>\n      <th>l</th>\n      <th>o</th>\n      <th>v</th>\n    </tr>\n  </thead>\n  <tbody>\n    <tr>\n      <th>2020-01-03</th>\n      <td>-0.023820</td>\n      <td>0.049600</td>\n      <td>0.056400</td>\n      <td>0.894000</td>\n      <td>0.0</td>\n      <td>39.24</td>\n      <td>38.67</td>\n      <td>38.72</td>\n      <td>11193319.0</td>\n    </tr>\n    <tr>\n      <th>2020-01-06</th>\n      <td>-0.070842</td>\n      <td>0.035917</td>\n      <td>0.045500</td>\n      <td>0.918583</td>\n      <td>0.0</td>\n      <td>39.00</td>\n      <td>38.70</td>\n      <td>38.82</td>\n      <td>10206988.0</td>\n    </tr>\n    <tr>\n      <th>2020-01-07</th>\n      <td>0.086780</td>\n      <td>0.038700</td>\n      <td>0.009400</td>\n      <td>0.951900</td>\n      <td>0.0</td>\n      <td>39.13</td>\n      <td>38.68</td>\n      <td>39.12</td>\n      <td>14328671.0</td>\n    </tr>\n    <tr>\n      <th>2020-01-08</th>\n      <td>0.135414</td>\n      <td>0.052714</td>\n      <td>0.011000</td>\n      <td>0.936286</td>\n      <td>1.0</td>\n      <td>39.22</td>\n      <td>38.75</td>\n      <td>38.76</td>\n      <td>12580358.0</td>\n    </tr>\n    <tr>\n      <th>2020-01-09</th>\n      <td>-0.108008</td>\n      <td>0.025917</td>\n      <td>0.057417</td>\n      <td>0.916917</td>\n      <td>0.0</td>\n      <td>39.27</td>\n      <td>38.79</td>\n      <td>39.27</td>\n      <td>15754368.0</td>\n    </tr>\n  </tbody>\n</table>\n</div>"
     },
     "metadata": {},
     "execution_count": 800
    }
   ],
   "source": [
    "df = pd.concat([df,df2], axis =1)\n",
    "df = df.dropna()\n",
    "df.head()"
   ]
  },
  {
   "cell_type": "code",
   "execution_count": 802,
   "metadata": {},
   "outputs": [],
   "source": [
    "X = df.drop([\"c\"], axis=1)\n",
    "y = df[\"c\"]"
   ]
  },
  {
   "cell_type": "code",
   "execution_count": 803,
   "metadata": {},
   "outputs": [],
   "source": [
    "x_train, x_test, y_train, y_test = train_test_split(X, y, test_size=0.2, random_state = 50)"
   ]
  },
  {
   "cell_type": "code",
   "execution_count": 804,
   "metadata": {},
   "outputs": [],
   "source": [
    "model = LinearDiscriminantAnalysis().fit(x_train, y_train)"
   ]
  },
  {
   "cell_type": "code",
   "execution_count": 805,
   "metadata": {},
   "outputs": [],
   "source": [
    "predictions = model.predict(x_test)"
   ]
  },
  {
   "cell_type": "code",
   "execution_count": 806,
   "metadata": {},
   "outputs": [
    {
     "output_type": "stream",
     "name": "stdout",
     "text": [
      "              precision    recall  f1-score   support\n\n         0.0       0.83      0.96      0.89        26\n         1.0       0.93      0.74      0.82        19\n\n    accuracy                           0.87        45\n   macro avg       0.88      0.85      0.86        45\nweighted avg       0.88      0.87      0.86        45\n\n"
     ]
    }
   ],
   "source": [
    "print(classification_report(y_test, predictions))"
   ]
  },
  {
   "cell_type": "code",
   "execution_count": null,
   "metadata": {},
   "outputs": [],
   "source": [
    "file_path = Path(\"data/pfizer_combined.csv\")\n",
    "df.to_csv(file_path, index=False, encoding='utf-8-sig')"
   ]
  }
 ]
}