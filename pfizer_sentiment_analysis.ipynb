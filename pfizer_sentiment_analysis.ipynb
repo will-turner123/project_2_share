{
 "metadata": {
  "language_info": {
   "codemirror_mode": {
    "name": "ipython",
    "version": 3
   },
   "file_extension": ".py",
   "mimetype": "text/x-python",
   "name": "python",
   "nbconvert_exporter": "python",
   "pygments_lexer": "ipython3",
   "version": "3.7.6-final"
  },
  "orig_nbformat": 2,
  "kernelspec": {
   "name": "python3",
   "display_name": "Python 3",
   "language": "python"
  }
 },
 "nbformat": 4,
 "nbformat_minor": 2,
 "cells": [
  {
   "cell_type": "code",
   "execution_count": 187,
   "metadata": {},
   "outputs": [],
   "source": [
    "import nltk\n",
    "import pandas as pd\n",
    "from pathlib import Path\n",
    "import hvplot.pandas\n",
    "from nltk.sentiment.vader import SentimentIntensityAnalyzer\n",
    "analyzer = SentimentIntensityAnalyzer()"
   ]
  },
  {
   "cell_type": "code",
   "execution_count": 188,
   "metadata": {},
   "outputs": [
    {
     "output_type": "execute_result",
     "data": {
      "text/plain": [
       "       date                                               text\n",
       "0  1/1/2020  LSU pass rusher announces comeback for senior ...\n",
       "1  1/1/2020  Rapper MF Doom dead at 49 · WHO issues emergen...\n",
       "2  1/2/2020  Gilead, Biogen, GSK, Pfizer and Others Increas...\n",
       "3  1/2/2020  Pfizer's largest percent increases, 15%, are o...\n",
       "4  1/2/2020  A proposed class action filed Thursday in Manh..."
      ],
      "text/html": "<div>\n<style scoped>\n    .dataframe tbody tr th:only-of-type {\n        vertical-align: middle;\n    }\n\n    .dataframe tbody tr th {\n        vertical-align: top;\n    }\n\n    .dataframe thead th {\n        text-align: right;\n    }\n</style>\n<table border=\"1\" class=\"dataframe\">\n  <thead>\n    <tr style=\"text-align: right;\">\n      <th></th>\n      <th>date</th>\n      <th>text</th>\n    </tr>\n  </thead>\n  <tbody>\n    <tr>\n      <th>0</th>\n      <td>1/1/2020</td>\n      <td>LSU pass rusher announces comeback for senior ...</td>\n    </tr>\n    <tr>\n      <th>1</th>\n      <td>1/1/2020</td>\n      <td>Rapper MF Doom dead at 49 · WHO issues emergen...</td>\n    </tr>\n    <tr>\n      <th>2</th>\n      <td>1/2/2020</td>\n      <td>Gilead, Biogen, GSK, Pfizer and Others Increas...</td>\n    </tr>\n    <tr>\n      <th>3</th>\n      <td>1/2/2020</td>\n      <td>Pfizer's largest percent increases, 15%, are o...</td>\n    </tr>\n    <tr>\n      <th>4</th>\n      <td>1/2/2020</td>\n      <td>A proposed class action filed Thursday in Manh...</td>\n    </tr>\n  </tbody>\n</table>\n</div>"
     },
     "metadata": {},
     "execution_count": 188
    }
   ],
   "source": [
    "company_df = pd.read_csv(\"data/pfizer_year.csv\")\n",
    "company_df = company_df.drop([\"title\"], axis=1)\n",
    "company_df.head()"
   ]
  },
  {
   "cell_type": "code",
   "execution_count": 189,
   "metadata": {},
   "outputs": [],
   "source": [
    "company_sentiments = []\n",
    "\n",
    "for row in company_df.itertuples():\n",
    "    try:\n",
    "        text = row.text\n",
    "        date = row.date\n",
    "        sentiment = analyzer.polarity_scores(text)\n",
    "        compound = sentiment[\"compound\"]\n",
    "        pos = sentiment[\"pos\"]\n",
    "        neu = sentiment[\"neu\"]\n",
    "        neg = sentiment[\"neg\"]\n",
    "\n",
    "        \n",
    "        company_sentiments.append({\n",
    "            \"text\": text,\n",
    "            \"date\": date,\n",
    "            \"compound\": compound,\n",
    "            \"positive\": pos,\n",
    "            \"negative\": neg,\n",
    "            \"neutral\": neu\n",
    "            \n",
    "        })\n",
    "        \n",
    "    except AttributeError:\n",
    "        pass\n",
    "    \n",
    "# Create DataFrame\n",
    "company_df = pd.DataFrame(company_sentiments)\n",
    "\n",
    "# Reorder DataFrame columns\n",
    "cols = [\"date\", \"text\", \"compound\", \"positive\", \"negative\", \"neutral\"]\n",
    "company_df = company_df[cols]\n",
    "company_df = company_df.drop([\"text\"], axis=1)\n",
    "company_df['date'] = pd.to_datetime(company_df['date'])\n",
    "file_path = Path(\"data/pfizer_sentiment_analysis.csv\")\n",
    "company_df.to_csv(file_path, index=False, encoding='utf-8-sig')"
   ]
  }
 ]
}