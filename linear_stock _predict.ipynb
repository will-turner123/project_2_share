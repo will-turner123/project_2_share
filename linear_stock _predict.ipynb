{
 "metadata": {
  "language_info": {
   "codemirror_mode": {
    "name": "ipython",
    "version": 3
   },
   "file_extension": ".py",
   "mimetype": "text/x-python",
   "name": "python",
   "nbconvert_exporter": "python",
   "pygments_lexer": "ipython3",
   "version": "3.7.6-final"
  },
  "orig_nbformat": 2,
  "kernelspec": {
   "name": "python3",
   "display_name": "Python 3",
   "language": "python"
  }
 },
 "nbformat": 4,
 "nbformat_minor": 2,
 "cells": [
  {
   "cell_type": "code",
   "execution_count": 12,
   "metadata": {},
   "outputs": [],
   "source": [
    "import numpy as np\n",
    "import pandas as pd\n",
    "import hvplot.pandas\n",
    "from pathlib import Path\n",
    "import matplotlib.pyplot as plt\n",
    "\n",
    "%matplotlib inline"
   ]
  },
  {
   "cell_type": "code",
   "execution_count": 13,
   "metadata": {},
   "outputs": [],
   "source": [
    "from sklearn.model_selection import train_test_split\n",
    "from sklearn.metrics import accuracy_score, classification_report\n",
    "from sklearn.discriminant_analysis import LinearDiscriminantAnalysis"
   ]
  },
  {
   "cell_type": "code",
   "execution_count": 14,
   "metadata": {},
   "outputs": [
    {
     "output_type": "execute_result",
     "data": {
      "text/plain": [
       "            compound  positive  negative   neutral\n",
       "date                                              \n",
       "2019-10-01  0.111867  0.037167  0.000000  0.962833\n",
       "2019-10-02  0.233725  0.066250  0.000000  0.933750\n",
       "2019-10-03  0.040680  0.029200  0.018200  0.952600\n",
       "2019-10-04  0.326025  0.128375  0.018125  0.853500\n",
       "2019-10-05       NaN       NaN       NaN       NaN"
      ],
      "text/html": "<div>\n<style scoped>\n    .dataframe tbody tr th:only-of-type {\n        vertical-align: middle;\n    }\n\n    .dataframe tbody tr th {\n        vertical-align: top;\n    }\n\n    .dataframe thead th {\n        text-align: right;\n    }\n</style>\n<table border=\"1\" class=\"dataframe\">\n  <thead>\n    <tr style=\"text-align: right;\">\n      <th></th>\n      <th>compound</th>\n      <th>positive</th>\n      <th>negative</th>\n      <th>neutral</th>\n    </tr>\n    <tr>\n      <th>date</th>\n      <th></th>\n      <th></th>\n      <th></th>\n      <th></th>\n    </tr>\n  </thead>\n  <tbody>\n    <tr>\n      <th>2019-10-01</th>\n      <td>0.111867</td>\n      <td>0.037167</td>\n      <td>0.000000</td>\n      <td>0.962833</td>\n    </tr>\n    <tr>\n      <th>2019-10-02</th>\n      <td>0.233725</td>\n      <td>0.066250</td>\n      <td>0.000000</td>\n      <td>0.933750</td>\n    </tr>\n    <tr>\n      <th>2019-10-03</th>\n      <td>0.040680</td>\n      <td>0.029200</td>\n      <td>0.018200</td>\n      <td>0.952600</td>\n    </tr>\n    <tr>\n      <th>2019-10-04</th>\n      <td>0.326025</td>\n      <td>0.128375</td>\n      <td>0.018125</td>\n      <td>0.853500</td>\n    </tr>\n    <tr>\n      <th>2019-10-05</th>\n      <td>NaN</td>\n      <td>NaN</td>\n      <td>NaN</td>\n      <td>NaN</td>\n    </tr>\n  </tbody>\n</table>\n</div>"
     },
     "metadata": {},
     "execution_count": 14
    }
   ],
   "source": [
    "df = pd.read_csv('data/moderna_sentiment_analysis.csv', index_col=\"date\", infer_datetime_format=True, parse_dates=True)\n",
    "df = df.resample('D').mean()\n",
    "df.head()"
   ]
  },
  {
   "cell_type": "code",
   "execution_count": 15,
   "metadata": {},
   "outputs": [
    {
     "output_type": "execute_result",
     "data": {
      "text/plain": [
       "              c        h       l      o         v\n",
       "t                                                \n",
       "2019-10-02  0.0  35.2700  34.655  35.26  17819919\n",
       "2019-10-03  1.0  35.4700  34.600  34.71  15758523\n",
       "2019-10-04  1.0  35.9800  35.445  35.49  14147114\n",
       "2019-10-07  0.0  36.2600  35.810  35.82   8816274\n",
       "2019-10-08  0.0  35.8755  35.420  35.65  11426298"
      ],
      "text/html": "<div>\n<style scoped>\n    .dataframe tbody tr th:only-of-type {\n        vertical-align: middle;\n    }\n\n    .dataframe tbody tr th {\n        vertical-align: top;\n    }\n\n    .dataframe thead th {\n        text-align: right;\n    }\n</style>\n<table border=\"1\" class=\"dataframe\">\n  <thead>\n    <tr style=\"text-align: right;\">\n      <th></th>\n      <th>c</th>\n      <th>h</th>\n      <th>l</th>\n      <th>o</th>\n      <th>v</th>\n    </tr>\n    <tr>\n      <th>t</th>\n      <th></th>\n      <th></th>\n      <th></th>\n      <th></th>\n      <th></th>\n    </tr>\n  </thead>\n  <tbody>\n    <tr>\n      <th>2019-10-02</th>\n      <td>0.0</td>\n      <td>35.2700</td>\n      <td>34.655</td>\n      <td>35.26</td>\n      <td>17819919</td>\n    </tr>\n    <tr>\n      <th>2019-10-03</th>\n      <td>1.0</td>\n      <td>35.4700</td>\n      <td>34.600</td>\n      <td>34.71</td>\n      <td>15758523</td>\n    </tr>\n    <tr>\n      <th>2019-10-04</th>\n      <td>1.0</td>\n      <td>35.9800</td>\n      <td>35.445</td>\n      <td>35.49</td>\n      <td>14147114</td>\n    </tr>\n    <tr>\n      <th>2019-10-07</th>\n      <td>0.0</td>\n      <td>36.2600</td>\n      <td>35.810</td>\n      <td>35.82</td>\n      <td>8816274</td>\n    </tr>\n    <tr>\n      <th>2019-10-08</th>\n      <td>0.0</td>\n      <td>35.8755</td>\n      <td>35.420</td>\n      <td>35.65</td>\n      <td>11426298</td>\n    </tr>\n  </tbody>\n</table>\n</div>"
     },
     "metadata": {},
     "execution_count": 15
    }
   ],
   "source": [
    "df2 = pd.read_csv('data/moderna_prices.csv', index_col=\"t\", infer_datetime_format=True, parse_dates=True)\n",
    "df2[\"c\"] = df2[\"c\"].pct_change()\n",
    "df2 = df2.dropna()\n",
    "df2[\"c\"][df2[\"c\"] < 0] = 0\n",
    "df2[\"c\"][df2[\"c\"] > 0] = 1\n",
    "df2.head()"
   ]
  },
  {
   "cell_type": "code",
   "execution_count": 16,
   "metadata": {},
   "outputs": [
    {
     "output_type": "execute_result",
     "data": {
      "text/plain": [
       "            compound  positive  negative   neutral    c        h       l  \\\n",
       "2019-10-02  0.233725  0.066250  0.000000  0.933750  0.0  35.2700  34.655   \n",
       "2019-10-03  0.040680  0.029200  0.018200  0.952600  1.0  35.4700  34.600   \n",
       "2019-10-04  0.326025  0.128375  0.018125  0.853500  1.0  35.9800  35.445   \n",
       "2019-10-07  0.037667  0.032667  0.020444  0.946889  0.0  36.2600  35.810   \n",
       "2019-10-08  0.239144  0.113444  0.047556  0.839333  0.0  35.8755  35.420   \n",
       "\n",
       "                o           v  \n",
       "2019-10-02  35.26  17819919.0  \n",
       "2019-10-03  34.71  15758523.0  \n",
       "2019-10-04  35.49  14147114.0  \n",
       "2019-10-07  35.82   8816274.0  \n",
       "2019-10-08  35.65  11426298.0  "
      ],
      "text/html": "<div>\n<style scoped>\n    .dataframe tbody tr th:only-of-type {\n        vertical-align: middle;\n    }\n\n    .dataframe tbody tr th {\n        vertical-align: top;\n    }\n\n    .dataframe thead th {\n        text-align: right;\n    }\n</style>\n<table border=\"1\" class=\"dataframe\">\n  <thead>\n    <tr style=\"text-align: right;\">\n      <th></th>\n      <th>compound</th>\n      <th>positive</th>\n      <th>negative</th>\n      <th>neutral</th>\n      <th>c</th>\n      <th>h</th>\n      <th>l</th>\n      <th>o</th>\n      <th>v</th>\n    </tr>\n  </thead>\n  <tbody>\n    <tr>\n      <th>2019-10-02</th>\n      <td>0.233725</td>\n      <td>0.066250</td>\n      <td>0.000000</td>\n      <td>0.933750</td>\n      <td>0.0</td>\n      <td>35.2700</td>\n      <td>34.655</td>\n      <td>35.26</td>\n      <td>17819919.0</td>\n    </tr>\n    <tr>\n      <th>2019-10-03</th>\n      <td>0.040680</td>\n      <td>0.029200</td>\n      <td>0.018200</td>\n      <td>0.952600</td>\n      <td>1.0</td>\n      <td>35.4700</td>\n      <td>34.600</td>\n      <td>34.71</td>\n      <td>15758523.0</td>\n    </tr>\n    <tr>\n      <th>2019-10-04</th>\n      <td>0.326025</td>\n      <td>0.128375</td>\n      <td>0.018125</td>\n      <td>0.853500</td>\n      <td>1.0</td>\n      <td>35.9800</td>\n      <td>35.445</td>\n      <td>35.49</td>\n      <td>14147114.0</td>\n    </tr>\n    <tr>\n      <th>2019-10-07</th>\n      <td>0.037667</td>\n      <td>0.032667</td>\n      <td>0.020444</td>\n      <td>0.946889</td>\n      <td>0.0</td>\n      <td>36.2600</td>\n      <td>35.810</td>\n      <td>35.82</td>\n      <td>8816274.0</td>\n    </tr>\n    <tr>\n      <th>2019-10-08</th>\n      <td>0.239144</td>\n      <td>0.113444</td>\n      <td>0.047556</td>\n      <td>0.839333</td>\n      <td>0.0</td>\n      <td>35.8755</td>\n      <td>35.420</td>\n      <td>35.65</td>\n      <td>11426298.0</td>\n    </tr>\n  </tbody>\n</table>\n</div>"
     },
     "metadata": {},
     "execution_count": 16
    }
   ],
   "source": [
    "df = pd.concat([df,df2], axis =1)\n",
    "df = df.dropna()\n",
    "df.head()"
   ]
  },
  {
   "cell_type": "code",
   "execution_count": 17,
   "metadata": {},
   "outputs": [],
   "source": [
    "X = df.drop([\"c\"], axis=1)\n",
    "y = df[\"c\"]"
   ]
  },
  {
   "cell_type": "code",
   "execution_count": 18,
   "metadata": {},
   "outputs": [],
   "source": [
    "x_train, x_test, y_train, y_test = train_test_split(X, y, test_size=0.2)"
   ]
  },
  {
   "cell_type": "code",
   "execution_count": 19,
   "metadata": {},
   "outputs": [],
   "source": [
    "model = LinearDiscriminantAnalysis().fit(x_train, y_train)"
   ]
  },
  {
   "cell_type": "code",
   "execution_count": 20,
   "metadata": {},
   "outputs": [],
   "source": [
    "predictions = model.predict(x_test)"
   ]
  },
  {
   "cell_type": "code",
   "execution_count": 21,
   "metadata": {},
   "outputs": [
    {
     "output_type": "stream",
     "name": "stdout",
     "text": [
      "              precision    recall  f1-score   support\n\n         0.0       0.89      0.78      0.83        32\n         1.0       0.74      0.87      0.80        23\n\n    accuracy                           0.82        55\n   macro avg       0.82      0.83      0.82        55\nweighted avg       0.83      0.82      0.82        55\n\n"
     ]
    }
   ],
   "source": [
    "print(classification_report(y_test, predictions))"
   ]
  },
  {
   "cell_type": "code",
   "execution_count": 22,
   "metadata": {},
   "outputs": [],
   "source": [
    "file_path = Path(\"data/moderna_combined.csv\")\n",
    "df.to_csv(file_path, index=False, encoding='utf-8-sig')"
   ]
  }
 ]
}