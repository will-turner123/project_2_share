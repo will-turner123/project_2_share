{
 "metadata": {
  "language_info": {
   "codemirror_mode": {
    "name": "ipython",
    "version": 3
   },
   "file_extension": ".py",
   "mimetype": "text/x-python",
   "name": "python",
   "nbconvert_exporter": "python",
   "pygments_lexer": "ipython3",
   "version": "3.7.6-final"
  },
  "orig_nbformat": 2,
  "kernelspec": {
   "name": "python3",
   "display_name": "Python 3",
   "language": "python"
  }
 },
 "nbformat": 4,
 "nbformat_minor": 2,
 "cells": [
  {
   "cell_type": "code",
   "execution_count": 140,
   "metadata": {},
   "outputs": [],
   "source": [
    "import alpaca_trade_api as tradeapi\n",
    "from datetime import datetime\n",
    "from pathlib import Path\n",
    "import pandas as pd\n",
    "import hvplot.pandas\n",
    "import os\n",
    "\n",
    "\n",
    "api = tradeapi.REST()"
   ]
  },
  {
   "cell_type": "code",
   "execution_count": 141,
   "metadata": {},
   "outputs": [],
   "source": [
    "tickers = \"PFE\""
   ]
  },
  {
   "cell_type": "code",
   "execution_count": 142,
   "metadata": {},
   "outputs": [],
   "source": [
    "timeframe = \"1D\""
   ]
  },
  {
   "cell_type": "code",
   "execution_count": 143,
   "metadata": {},
   "outputs": [],
   "source": [
    "\n",
    "start = pd.Timestamp(\"2020-01-01\", tz=\"America/New_York\").isoformat()\n",
    "end = pd.Timestamp(\"2020-12-31\", tz=\"America/New_York\").isoformat()"
   ]
  },
  {
   "cell_type": "code",
   "execution_count": 144,
   "metadata": {},
   "outputs": [
    {
     "output_type": "execute_result",
     "data": {
      "text/plain": [
       "       c      h       l      o           t         v\n",
       "0  39.14  39.35  38.875  39.30  1577941200  12985279\n",
       "1  38.92  39.24  38.670  38.72  1578027600  11193319\n",
       "2  38.87  39.00  38.700  38.82  1578286800  10206988\n",
       "3  38.76  39.13  38.680  39.12  1578373200  14328671\n",
       "4  39.05  39.22  38.750  38.76  1578459600  12580358"
      ],
      "text/html": "<div>\n<style scoped>\n    .dataframe tbody tr th:only-of-type {\n        vertical-align: middle;\n    }\n\n    .dataframe tbody tr th {\n        vertical-align: top;\n    }\n\n    .dataframe thead th {\n        text-align: right;\n    }\n</style>\n<table border=\"1\" class=\"dataframe\">\n  <thead>\n    <tr style=\"text-align: right;\">\n      <th></th>\n      <th>c</th>\n      <th>h</th>\n      <th>l</th>\n      <th>o</th>\n      <th>t</th>\n      <th>v</th>\n    </tr>\n  </thead>\n  <tbody>\n    <tr>\n      <th>0</th>\n      <td>39.14</td>\n      <td>39.35</td>\n      <td>38.875</td>\n      <td>39.30</td>\n      <td>1577941200</td>\n      <td>12985279</td>\n    </tr>\n    <tr>\n      <th>1</th>\n      <td>38.92</td>\n      <td>39.24</td>\n      <td>38.670</td>\n      <td>38.72</td>\n      <td>1578027600</td>\n      <td>11193319</td>\n    </tr>\n    <tr>\n      <th>2</th>\n      <td>38.87</td>\n      <td>39.00</td>\n      <td>38.700</td>\n      <td>38.82</td>\n      <td>1578286800</td>\n      <td>10206988</td>\n    </tr>\n    <tr>\n      <th>3</th>\n      <td>38.76</td>\n      <td>39.13</td>\n      <td>38.680</td>\n      <td>39.12</td>\n      <td>1578373200</td>\n      <td>14328671</td>\n    </tr>\n    <tr>\n      <th>4</th>\n      <td>39.05</td>\n      <td>39.22</td>\n      <td>38.750</td>\n      <td>38.76</td>\n      <td>1578459600</td>\n      <td>12580358</td>\n    </tr>\n  </tbody>\n</table>\n</div>"
     },
     "metadata": {},
     "execution_count": 144
    }
   ],
   "source": [
    "pfizer = api.get_barset(\n",
    "    tickers,\n",
    "    timeframe,\n",
    "    start = start,\n",
    "    end = end\n",
    ")[tickers]._raw\n",
    "\n",
    "pfizer_df = pd.DataFrame(data=pfizer)\n",
    "pfizer_df.head()"
   ]
  },
  {
   "cell_type": "code",
   "execution_count": 145,
   "metadata": {},
   "outputs": [
    {
     "output_type": "execute_result",
     "data": {
      "text/plain": [
       "       c      h       l      o           t         v\n",
       "0  39.14  39.35  38.875  39.30  2020-01-02  12985279\n",
       "1  38.92  39.24  38.670  38.72  2020-01-03  11193319\n",
       "2  38.87  39.00  38.700  38.82  2020-01-06  10206988\n",
       "3  38.76  39.13  38.680  39.12  2020-01-07  14328671\n",
       "4  39.05  39.22  38.750  38.76  2020-01-08  12580358"
      ],
      "text/html": "<div>\n<style scoped>\n    .dataframe tbody tr th:only-of-type {\n        vertical-align: middle;\n    }\n\n    .dataframe tbody tr th {\n        vertical-align: top;\n    }\n\n    .dataframe thead th {\n        text-align: right;\n    }\n</style>\n<table border=\"1\" class=\"dataframe\">\n  <thead>\n    <tr style=\"text-align: right;\">\n      <th></th>\n      <th>c</th>\n      <th>h</th>\n      <th>l</th>\n      <th>o</th>\n      <th>t</th>\n      <th>v</th>\n    </tr>\n  </thead>\n  <tbody>\n    <tr>\n      <th>0</th>\n      <td>39.14</td>\n      <td>39.35</td>\n      <td>38.875</td>\n      <td>39.30</td>\n      <td>2020-01-02</td>\n      <td>12985279</td>\n    </tr>\n    <tr>\n      <th>1</th>\n      <td>38.92</td>\n      <td>39.24</td>\n      <td>38.670</td>\n      <td>38.72</td>\n      <td>2020-01-03</td>\n      <td>11193319</td>\n    </tr>\n    <tr>\n      <th>2</th>\n      <td>38.87</td>\n      <td>39.00</td>\n      <td>38.700</td>\n      <td>38.82</td>\n      <td>2020-01-06</td>\n      <td>10206988</td>\n    </tr>\n    <tr>\n      <th>3</th>\n      <td>38.76</td>\n      <td>39.13</td>\n      <td>38.680</td>\n      <td>39.12</td>\n      <td>2020-01-07</td>\n      <td>14328671</td>\n    </tr>\n    <tr>\n      <th>4</th>\n      <td>39.05</td>\n      <td>39.22</td>\n      <td>38.750</td>\n      <td>38.76</td>\n      <td>2020-01-08</td>\n      <td>12580358</td>\n    </tr>\n  </tbody>\n</table>\n</div>"
     },
     "metadata": {},
     "execution_count": 145
    }
   ],
   "source": [
    "#pfizer_df['t'] = pd.to_datetime(pfizer_df['t']).dt.date\n",
    "pfizer_df[\"t\"] = pd.to_datetime(pfizer_df['t'], unit='s').dt.date\n",
    "pfizer_df.head()"
   ]
  },
  {
   "cell_type": "code",
   "execution_count": 146,
   "metadata": {},
   "outputs": [],
   "source": [
    "\n",
    "file_path = Path(\"data/pfizer_prices.csv\")\n",
    "pfizer_df.to_csv(file_path, index=False, encoding='utf-8-sig')\n"
   ]
  }
 ]
}